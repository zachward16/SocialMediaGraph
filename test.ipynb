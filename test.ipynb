{
 "cells": [
  {
   "cell_type": "code",
   "execution_count": 16,
   "metadata": {},
   "outputs": [],
   "source": [
    "import networkx as nx\n",
    "import community.community_louvain as community\n",
    "from pyvis.network import Network"
   ]
  },
  {
   "cell_type": "code",
   "execution_count": 18,
   "metadata": {},
   "outputs": [
    {
     "name": "stdout",
     "output_type": "stream",
     "text": [
      "test.html\n"
     ]
    },
    {
     "ename": "AttributeError",
     "evalue": "'NoneType' object has no attribute 'render'",
     "output_type": "error",
     "traceback": [
      "\u001b[0;31m---------------------------------------------------------------------------\u001b[0m",
      "\u001b[0;31mAttributeError\u001b[0m                            Traceback (most recent call last)",
      "Cell \u001b[0;32mIn[18], line 11\u001b[0m\n\u001b[1;32m      9\u001b[0m net\u001b[39m.\u001b[39mbarnes_hut()\n\u001b[1;32m     10\u001b[0m net\u001b[39m.\u001b[39mfrom_nx(ind)\n\u001b[0;32m---> 11\u001b[0m net\u001b[39m.\u001b[39;49mshow(\u001b[39m\"\u001b[39;49m\u001b[39mtest.html\u001b[39;49m\u001b[39m\"\u001b[39;49m)\n",
      "File \u001b[0;32m~/Library/Python/3.9/lib/python/site-packages/pyvis/network.py:546\u001b[0m, in \u001b[0;36mNetwork.show\u001b[0;34m(self, name, local, notebook)\u001b[0m\n\u001b[1;32m    544\u001b[0m \u001b[39mprint\u001b[39m(name)\n\u001b[1;32m    545\u001b[0m \u001b[39mif\u001b[39;00m notebook:\n\u001b[0;32m--> 546\u001b[0m     \u001b[39mself\u001b[39;49m\u001b[39m.\u001b[39;49mwrite_html(name, open_browser\u001b[39m=\u001b[39;49m\u001b[39mFalse\u001b[39;49;00m,notebook\u001b[39m=\u001b[39;49m\u001b[39mTrue\u001b[39;49;00m)\n\u001b[1;32m    547\u001b[0m \u001b[39melse\u001b[39;00m:\n\u001b[1;32m    548\u001b[0m     \u001b[39mself\u001b[39m\u001b[39m.\u001b[39mwrite_html(name, open_browser\u001b[39m=\u001b[39m\u001b[39mTrue\u001b[39;00m)\n",
      "File \u001b[0;32m~/Library/Python/3.9/lib/python/site-packages/pyvis/network.py:515\u001b[0m, in \u001b[0;36mNetwork.write_html\u001b[0;34m(self, name, local, notebook, open_browser)\u001b[0m\n\u001b[1;32m    513\u001b[0m getcwd_name \u001b[39m=\u001b[39m name\n\u001b[1;32m    514\u001b[0m check_html(getcwd_name)\n\u001b[0;32m--> 515\u001b[0m \u001b[39mself\u001b[39m\u001b[39m.\u001b[39mhtml \u001b[39m=\u001b[39m \u001b[39mself\u001b[39;49m\u001b[39m.\u001b[39;49mgenerate_html(notebook\u001b[39m=\u001b[39;49mnotebook)\n\u001b[1;32m    517\u001b[0m \u001b[39mif\u001b[39;00m \u001b[39mself\u001b[39m\u001b[39m.\u001b[39mcdn_resources \u001b[39m==\u001b[39m \u001b[39m\"\u001b[39m\u001b[39mlocal\u001b[39m\u001b[39m\"\u001b[39m:\n\u001b[1;32m    518\u001b[0m     \u001b[39mif\u001b[39;00m \u001b[39mnot\u001b[39;00m os\u001b[39m.\u001b[39mpath\u001b[39m.\u001b[39mexists(\u001b[39m\"\u001b[39m\u001b[39mlib\u001b[39m\u001b[39m\"\u001b[39m):\n",
      "File \u001b[0;32m~/Library/Python/3.9/lib/python/site-packages/pyvis/network.py:479\u001b[0m, in \u001b[0;36mNetwork.generate_html\u001b[0;34m(self, name, local, notebook)\u001b[0m\n\u001b[1;32m    476\u001b[0m \u001b[39melse\u001b[39;00m:\n\u001b[1;32m    477\u001b[0m     physics_enabled \u001b[39m=\u001b[39m \u001b[39mself\u001b[39m\u001b[39m.\u001b[39moptions\u001b[39m.\u001b[39mphysics\u001b[39m.\u001b[39menabled\n\u001b[0;32m--> 479\u001b[0m \u001b[39mself\u001b[39m\u001b[39m.\u001b[39mhtml \u001b[39m=\u001b[39m template\u001b[39m.\u001b[39;49mrender(height\u001b[39m=\u001b[39mheight,\n\u001b[1;32m    480\u001b[0m                             width\u001b[39m=\u001b[39mwidth,\n\u001b[1;32m    481\u001b[0m                             nodes\u001b[39m=\u001b[39mnodes,\n\u001b[1;32m    482\u001b[0m                             edges\u001b[39m=\u001b[39medges,\n\u001b[1;32m    483\u001b[0m                             heading\u001b[39m=\u001b[39mheading,\n\u001b[1;32m    484\u001b[0m                             options\u001b[39m=\u001b[39moptions,\n\u001b[1;32m    485\u001b[0m                             physics_enabled\u001b[39m=\u001b[39mphysics_enabled,\n\u001b[1;32m    486\u001b[0m                             use_DOT\u001b[39m=\u001b[39m\u001b[39mself\u001b[39m\u001b[39m.\u001b[39muse_DOT,\n\u001b[1;32m    487\u001b[0m                             dot_lang\u001b[39m=\u001b[39m\u001b[39mself\u001b[39m\u001b[39m.\u001b[39mdot_lang,\n\u001b[1;32m    488\u001b[0m                             widget\u001b[39m=\u001b[39m\u001b[39mself\u001b[39m\u001b[39m.\u001b[39mwidget,\n\u001b[1;32m    489\u001b[0m                             bgcolor\u001b[39m=\u001b[39m\u001b[39mself\u001b[39m\u001b[39m.\u001b[39mbgcolor,\n\u001b[1;32m    490\u001b[0m                             conf\u001b[39m=\u001b[39m\u001b[39mself\u001b[39m\u001b[39m.\u001b[39mconf,\n\u001b[1;32m    491\u001b[0m                             tooltip_link\u001b[39m=\u001b[39muse_link_template,\n\u001b[1;32m    492\u001b[0m                             neighborhood_highlight\u001b[39m=\u001b[39m\u001b[39mself\u001b[39m\u001b[39m.\u001b[39mneighborhood_highlight,\n\u001b[1;32m    493\u001b[0m                             select_menu\u001b[39m=\u001b[39m\u001b[39mself\u001b[39m\u001b[39m.\u001b[39mselect_menu,\n\u001b[1;32m    494\u001b[0m                             filter_menu\u001b[39m=\u001b[39m\u001b[39mself\u001b[39m\u001b[39m.\u001b[39mfilter_menu,\n\u001b[1;32m    495\u001b[0m                             notebook\u001b[39m=\u001b[39mnotebook,\n\u001b[1;32m    496\u001b[0m                             cdn_resources\u001b[39m=\u001b[39m\u001b[39mself\u001b[39m\u001b[39m.\u001b[39mcdn_resources\n\u001b[1;32m    497\u001b[0m                             )\n\u001b[1;32m    498\u001b[0m \u001b[39mreturn\u001b[39;00m \u001b[39mself\u001b[39m\u001b[39m.\u001b[39mhtml\n",
      "\u001b[0;31mAttributeError\u001b[0m: 'NoneType' object has no attribute 'render'"
     ]
    }
   ],
   "source": [
    "n = 5\n",
    "g = nx.complete_graph(2*n)\n",
    "part = dict([])\n",
    "for node in g.nodes() :\n",
    "    part[node] = node % 2\n",
    "ind = community.induced_graph(part, g)\n",
    "\n",
    "net = Network()\n",
    "net.barnes_hut()\n",
    "net.from_nx(ind)\n",
    "net.show(\"test.html\")"
   ]
  },
  {
   "cell_type": "code",
   "execution_count": 31,
   "metadata": {},
   "outputs": [
    {
     "data": {
      "text/plain": [
       "{'width': 25}"
      ]
     },
     "execution_count": 31,
     "metadata": {},
     "output_type": "execute_result"
    }
   ],
   "source": [
    "data = ind.get_edge_data(0,1)\n",
    "data"
   ]
  }
 ],
 "metadata": {
  "kernelspec": {
   "display_name": "Python 3",
   "language": "python",
   "name": "python3"
  },
  "language_info": {
   "codemirror_mode": {
    "name": "ipython",
    "version": 3
   },
   "file_extension": ".py",
   "mimetype": "text/x-python",
   "name": "python",
   "nbconvert_exporter": "python",
   "pygments_lexer": "ipython3",
   "version": "3.9.16"
  },
  "orig_nbformat": 4
 },
 "nbformat": 4,
 "nbformat_minor": 2
}
